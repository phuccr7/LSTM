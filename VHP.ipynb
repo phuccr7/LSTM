{
 "cells": [
  {
   "cell_type": "code",
   "execution_count": 11,
   "metadata": {},
   "outputs": [],
   "source": [
    "#Vu Hoang Phuc\n",
    "#Ho Chi Minh City"
   ]
  },
  {
   "attachments": {},
   "cell_type": "markdown",
   "metadata": {},
   "source": [
    "Vì dữ liệu có dạng là chuối thời gian vì vậy tôi sẽ sử dụng mô hình LSTM"
   ]
  },
  {
   "cell_type": "code",
   "execution_count": 12,
   "metadata": {},
   "outputs": [],
   "source": [
    "import pandas as pd\n",
    "import numpy as np\n",
    "from sklearn.preprocessing import MinMaxScaler\n",
    "from keras.models import Sequential\n",
    "from keras.layers import Dense, LSTM, Dropout"
   ]
  },
  {
   "attachments": {},
   "cell_type": "markdown",
   "metadata": {},
   "source": [
    "Tôi chỉ làm với một file dữ liệu là FPT.csv, những cổ phiếu của công ty khác thì tương tự\n",
    "Ta chỉ cần đổi lại  tên file"
   ]
  },
  {
   "cell_type": "code",
   "execution_count": 13,
   "metadata": {},
   "outputs": [
    {
     "data": {
      "text/html": [
       "<div>\n",
       "<style scoped>\n",
       "    .dataframe tbody tr th:only-of-type {\n",
       "        vertical-align: middle;\n",
       "    }\n",
       "\n",
       "    .dataframe tbody tr th {\n",
       "        vertical-align: top;\n",
       "    }\n",
       "\n",
       "    .dataframe thead th {\n",
       "        text-align: right;\n",
       "    }\n",
       "</style>\n",
       "<table border=\"1\" class=\"dataframe\">\n",
       "  <thead>\n",
       "    <tr style=\"text-align: right;\">\n",
       "      <th></th>\n",
       "      <th>Ticker</th>\n",
       "      <th>Date/Time</th>\n",
       "      <th>Open</th>\n",
       "      <th>High</th>\n",
       "      <th>Low</th>\n",
       "      <th>Close</th>\n",
       "      <th>Volume</th>\n",
       "      <th>Open Interest</th>\n",
       "    </tr>\n",
       "  </thead>\n",
       "  <tbody>\n",
       "    <tr>\n",
       "      <th>0</th>\n",
       "      <td>FPT</td>\n",
       "      <td>12/25/2018 9:15</td>\n",
       "      <td>30.89</td>\n",
       "      <td>30.89</td>\n",
       "      <td>30.89</td>\n",
       "      <td>30.89</td>\n",
       "      <td>35410</td>\n",
       "      <td>0</td>\n",
       "    </tr>\n",
       "    <tr>\n",
       "      <th>1</th>\n",
       "      <td>FPT</td>\n",
       "      <td>12/25/2018 9:16</td>\n",
       "      <td>30.81</td>\n",
       "      <td>30.81</td>\n",
       "      <td>30.81</td>\n",
       "      <td>30.81</td>\n",
       "      <td>190</td>\n",
       "      <td>0</td>\n",
       "    </tr>\n",
       "    <tr>\n",
       "      <th>2</th>\n",
       "      <td>FPT</td>\n",
       "      <td>12/25/2018 9:17</td>\n",
       "      <td>30.74</td>\n",
       "      <td>30.81</td>\n",
       "      <td>30.74</td>\n",
       "      <td>30.74</td>\n",
       "      <td>1120</td>\n",
       "      <td>0</td>\n",
       "    </tr>\n",
       "    <tr>\n",
       "      <th>3</th>\n",
       "      <td>FPT</td>\n",
       "      <td>12/25/2018 9:18</td>\n",
       "      <td>30.74</td>\n",
       "      <td>30.74</td>\n",
       "      <td>30.74</td>\n",
       "      <td>30.74</td>\n",
       "      <td>2120</td>\n",
       "      <td>0</td>\n",
       "    </tr>\n",
       "    <tr>\n",
       "      <th>4</th>\n",
       "      <td>FPT</td>\n",
       "      <td>12/25/2018 9:19</td>\n",
       "      <td>30.74</td>\n",
       "      <td>30.74</td>\n",
       "      <td>30.74</td>\n",
       "      <td>30.74</td>\n",
       "      <td>22500</td>\n",
       "      <td>0</td>\n",
       "    </tr>\n",
       "  </tbody>\n",
       "</table>\n",
       "</div>"
      ],
      "text/plain": [
       "  Ticker        Date/Time   Open   High    Low  Close  Volume  Open Interest\n",
       "0    FPT  12/25/2018 9:15  30.89  30.89  30.89  30.89   35410              0\n",
       "1    FPT  12/25/2018 9:16  30.81  30.81  30.81  30.81     190              0\n",
       "2    FPT  12/25/2018 9:17  30.74  30.81  30.74  30.74    1120              0\n",
       "3    FPT  12/25/2018 9:18  30.74  30.74  30.74  30.74    2120              0\n",
       "4    FPT  12/25/2018 9:19  30.74  30.74  30.74  30.74   22500              0"
      ]
     },
     "execution_count": 13,
     "metadata": {},
     "output_type": "execute_result"
    }
   ],
   "source": [
    "#Đọc dữ liệu\n",
    "df = pd.read_csv('FPT.CSV')\n",
    "df.head()\n"
   ]
  },
  {
   "attachments": {},
   "cell_type": "markdown",
   "metadata": {},
   "source": [
    "Thêm cột biến động giá"
   ]
  },
  {
   "cell_type": "code",
   "execution_count": 14,
   "metadata": {},
   "outputs": [],
   "source": [
    "df['PriceDiff'] = df['Close'].shift(-1) - df['Close']"
   ]
  },
  {
   "cell_type": "code",
   "execution_count": 15,
   "metadata": {},
   "outputs": [],
   "source": [
    "# Loại bỏ hàng cuối cùng vì không có biến động giá\n",
    "df = df[:-1]"
   ]
  },
  {
   "cell_type": "code",
   "execution_count": 16,
   "metadata": {},
   "outputs": [],
   "source": [
    "# Chia dữ liệu thành train set và test set\n",
    "train_size = int(len(df) * 0.8)\n",
    "train_df = df[:train_size]\n",
    "test_df = df[train_size:]"
   ]
  },
  {
   "cell_type": "code",
   "execution_count": 17,
   "metadata": {},
   "outputs": [],
   "source": [
    "# Chuẩn hóa dữ liệu\n",
    "scaler = MinMaxScaler(feature_range=(0, 1))\n",
    "scaled_train = scaler.fit_transform(train_df[['Close', 'Volume', 'PriceDiff']])\n",
    "scaled_test = scaler.transform(test_df[['Close', 'Volume', 'PriceDiff']])"
   ]
  },
  {
   "cell_type": "code",
   "execution_count": 18,
   "metadata": {},
   "outputs": [],
   "source": [
    "# Tạo dữ liệu cho mô hình LSTM\n",
    "def create_lstm_dataset(dataset, look_back=1):\n",
    "    data_X, data_y = [], []\n",
    "    for i in range(len(dataset) - look_back):\n",
    "        x = dataset[i:(i + look_back), :]\n",
    "        y = dataset[i + look_back, 2]\n",
    "        data_X.append(x)\n",
    "        data_y.append(y)\n",
    "    return np.array(data_X), np.array(data_y)"
   ]
  },
  {
   "cell_type": "code",
   "execution_count": 19,
   "metadata": {},
   "outputs": [],
   "source": [
    "look_back = 60 # số lượng giá trước đó để dự đoán giá tiếp theo\n",
    "train_X, train_y = create_lstm_dataset(scaled_train, look_back)\n",
    "test_X, test_y = create_lstm_dataset(scaled_test, look_back)"
   ]
  },
  {
   "cell_type": "code",
   "execution_count": 20,
   "metadata": {},
   "outputs": [
    {
     "name": "stdout",
     "output_type": "stream",
     "text": [
      "Epoch 1/100\n",
      "2434/2434 [==============================] - 61s 24ms/step - loss: 0.0030\n",
      "Epoch 2/100\n",
      "2434/2434 [==============================] - 60s 24ms/step - loss: 5.1432e-04\n",
      "Epoch 3/100\n",
      "2434/2434 [==============================] - 62s 26ms/step - loss: 2.9771e-04\n",
      "Epoch 4/100\n",
      "2434/2434 [==============================] - 61s 25ms/step - loss: 2.8954e-04\n",
      "Epoch 5/100\n",
      "2434/2434 [==============================] - 61s 25ms/step - loss: 2.8510e-04\n",
      "Epoch 6/100\n",
      "2434/2434 [==============================] - 62s 25ms/step - loss: 2.8331e-04\n",
      "Epoch 7/100\n",
      "2434/2434 [==============================] - 61s 25ms/step - loss: 2.8297e-04\n",
      "Epoch 8/100\n",
      "2434/2434 [==============================] - 61s 25ms/step - loss: 2.8293e-04\n",
      "Epoch 9/100\n",
      "2434/2434 [==============================] - 59s 24ms/step - loss: 2.8285e-04\n",
      "Epoch 10/100\n",
      "2434/2434 [==============================] - 59s 24ms/step - loss: 2.8310e-04\n",
      "Epoch 11/100\n",
      "2434/2434 [==============================] - 59s 24ms/step - loss: 2.8264e-04\n",
      "Epoch 12/100\n",
      "2434/2434 [==============================] - 65s 27ms/step - loss: 2.8289e-04\n",
      "Epoch 13/100\n",
      "2434/2434 [==============================] - 62s 25ms/step - loss: 2.8276e-04\n",
      "Epoch 14/100\n",
      "2434/2434 [==============================] - 61s 25ms/step - loss: 2.8277e-04\n",
      "Epoch 15/100\n",
      "2434/2434 [==============================] - 61s 25ms/step - loss: 2.8303e-04\n",
      "Epoch 16/100\n",
      "2434/2434 [==============================] - 60s 25ms/step - loss: 2.8287e-04\n",
      "Epoch 17/100\n",
      "2434/2434 [==============================] - 63s 26ms/step - loss: 2.8288e-04\n",
      "Epoch 18/100\n",
      "2434/2434 [==============================] - 60s 25ms/step - loss: 2.8283e-04\n",
      "Epoch 19/100\n",
      "2434/2434 [==============================] - 59s 24ms/step - loss: 2.8281e-04\n",
      "Epoch 20/100\n",
      "2434/2434 [==============================] - 60s 25ms/step - loss: 2.8267e-04\n",
      "Epoch 21/100\n",
      "2434/2434 [==============================] - 60s 25ms/step - loss: 2.8287e-04\n",
      "Epoch 22/100\n",
      "2434/2434 [==============================] - 842s 346ms/step - loss: 2.8288e-04\n",
      "Epoch 23/100\n",
      "2434/2434 [==============================] - 56s 23ms/step - loss: 2.8282e-04\n",
      "Epoch 24/100\n",
      "2434/2434 [==============================] - 58s 24ms/step - loss: 2.8281e-04\n",
      "Epoch 25/100\n",
      "2434/2434 [==============================] - 59s 24ms/step - loss: 2.8302e-04\n",
      "Epoch 26/100\n",
      "2434/2434 [==============================] - 58s 24ms/step - loss: 2.8282e-04\n",
      "Epoch 27/100\n",
      "2434/2434 [==============================] - 59s 24ms/step - loss: 2.8283e-04\n",
      "Epoch 28/100\n",
      "2434/2434 [==============================] - 59s 24ms/step - loss: 2.8306e-04\n",
      "Epoch 29/100\n",
      "2434/2434 [==============================] - 59s 24ms/step - loss: 2.8303e-04\n",
      "Epoch 30/100\n",
      "2434/2434 [==============================] - 60s 25ms/step - loss: 2.8274e-04\n",
      "Epoch 31/100\n",
      "2434/2434 [==============================] - 60s 25ms/step - loss: 2.8288e-04\n",
      "Epoch 32/100\n",
      "2434/2434 [==============================] - 60s 25ms/step - loss: 2.8271e-04\n",
      "Epoch 33/100\n",
      "2434/2434 [==============================] - 446s 183ms/step - loss: 2.8266e-04\n",
      "Epoch 34/100\n",
      "2434/2434 [==============================] - 64s 26ms/step - loss: 2.8269e-04\n",
      "Epoch 35/100\n",
      "2434/2434 [==============================] - 63s 26ms/step - loss: 2.8288e-04\n",
      "Epoch 36/100\n",
      "2434/2434 [==============================] - 63s 26ms/step - loss: 2.8313e-04\n",
      "Epoch 37/100\n",
      "2434/2434 [==============================] - 67s 27ms/step - loss: 2.8302e-04\n",
      "Epoch 38/100\n",
      "2434/2434 [==============================] - 66s 27ms/step - loss: 2.8281e-04\n",
      "Epoch 39/100\n",
      "2434/2434 [==============================] - 67s 27ms/step - loss: 2.8287e-04\n",
      "Epoch 40/100\n",
      "2434/2434 [==============================] - 67s 28ms/step - loss: 2.8275e-04\n",
      "Epoch 41/100\n",
      "2434/2434 [==============================] - 67s 28ms/step - loss: 2.8299e-04\n",
      "Epoch 42/100\n",
      "2434/2434 [==============================] - 68s 28ms/step - loss: 2.8290e-04\n",
      "Epoch 43/100\n",
      "2434/2434 [==============================] - 67s 28ms/step - loss: 2.8285e-04\n",
      "Epoch 44/100\n",
      "2434/2434 [==============================] - 67s 28ms/step - loss: 2.8298e-04\n",
      "Epoch 45/100\n",
      "2434/2434 [==============================] - 68s 28ms/step - loss: 2.8309e-04\n",
      "Epoch 46/100\n",
      "2434/2434 [==============================] - 68s 28ms/step - loss: 2.8302e-04\n",
      "Epoch 47/100\n",
      "2434/2434 [==============================] - 67s 28ms/step - loss: 2.8305e-04\n",
      "Epoch 48/100\n",
      "2434/2434 [==============================] - 68s 28ms/step - loss: 2.8302e-04\n",
      "Epoch 49/100\n",
      "2434/2434 [==============================] - 68s 28ms/step - loss: 2.8286e-04\n",
      "Epoch 50/100\n",
      "2434/2434 [==============================] - 68s 28ms/step - loss: 2.8264e-04\n",
      "Epoch 51/100\n",
      "2434/2434 [==============================] - 69s 28ms/step - loss: 2.8287e-04\n",
      "Epoch 52/100\n",
      "2434/2434 [==============================] - 67s 28ms/step - loss: 2.8272e-04\n",
      "Epoch 53/100\n",
      "2434/2434 [==============================] - 68s 28ms/step - loss: 2.8290e-04\n",
      "Epoch 54/100\n",
      "2434/2434 [==============================] - 68s 28ms/step - loss: 2.8294e-04\n",
      "Epoch 55/100\n",
      "2434/2434 [==============================] - 71s 29ms/step - loss: 2.8290e-04\n",
      "Epoch 56/100\n",
      "2434/2434 [==============================] - 65s 27ms/step - loss: 2.8275e-04\n",
      "Epoch 57/100\n",
      "2434/2434 [==============================] - 66s 27ms/step - loss: 2.8281e-04\n",
      "Epoch 58/100\n",
      "2434/2434 [==============================] - 65s 27ms/step - loss: 2.8296e-04\n",
      "Epoch 59/100\n",
      "2434/2434 [==============================] - 63s 26ms/step - loss: 2.8270e-04\n",
      "Epoch 60/100\n",
      "2434/2434 [==============================] - 67s 28ms/step - loss: 2.8290e-04\n",
      "Epoch 61/100\n",
      "2434/2434 [==============================] - 65s 27ms/step - loss: 2.8276e-04\n",
      "Epoch 62/100\n",
      "2434/2434 [==============================] - 65s 27ms/step - loss: 2.8281e-04\n",
      "Epoch 63/100\n",
      "2434/2434 [==============================] - 65s 27ms/step - loss: 2.8282e-04\n",
      "Epoch 64/100\n",
      "2434/2434 [==============================] - 65s 27ms/step - loss: 2.8300e-04\n",
      "Epoch 65/100\n",
      "2434/2434 [==============================] - 65s 27ms/step - loss: 2.8267e-04\n",
      "Epoch 66/100\n",
      "2434/2434 [==============================] - 65s 27ms/step - loss: 2.8289e-04\n",
      "Epoch 67/100\n",
      "2434/2434 [==============================] - 66s 27ms/step - loss: 2.8293e-04\n",
      "Epoch 68/100\n",
      "2434/2434 [==============================] - 65s 27ms/step - loss: 2.8277e-04\n",
      "Epoch 69/100\n",
      "2434/2434 [==============================] - 65s 27ms/step - loss: 2.8274e-04\n",
      "Epoch 70/100\n",
      "2434/2434 [==============================] - 66s 27ms/step - loss: 2.8298e-04\n",
      "Epoch 71/100\n",
      "2434/2434 [==============================] - 64s 26ms/step - loss: 2.8277e-04\n",
      "Epoch 72/100\n",
      "2434/2434 [==============================] - 65s 27ms/step - loss: 2.8286e-04\n",
      "Epoch 73/100\n",
      "2434/2434 [==============================] - 65s 27ms/step - loss: 2.8284e-04\n",
      "Epoch 74/100\n",
      "2434/2434 [==============================] - 65s 27ms/step - loss: 2.8295e-04\n",
      "Epoch 75/100\n",
      "2434/2434 [==============================] - 65s 27ms/step - loss: 2.8233e-04\n",
      "Epoch 76/100\n",
      "2434/2434 [==============================] - 65s 27ms/step - loss: 2.8158e-04\n",
      "Epoch 77/100\n",
      "2434/2434 [==============================] - 73s 30ms/step - loss: 2.8030e-04\n",
      "Epoch 78/100\n",
      "2434/2434 [==============================] - 74s 30ms/step - loss: 2.7991e-04\n",
      "Epoch 79/100\n",
      "2434/2434 [==============================] - 73s 30ms/step - loss: 2.7884e-04\n",
      "Epoch 80/100\n",
      "2434/2434 [==============================] - 79s 32ms/step - loss: 2.7809e-04\n",
      "Epoch 81/100\n",
      "2434/2434 [==============================] - 78s 32ms/step - loss: 2.7868e-04\n",
      "Epoch 82/100\n",
      "2434/2434 [==============================] - 82s 34ms/step - loss: 2.7784e-04\n",
      "Epoch 83/100\n",
      "2434/2434 [==============================] - 80s 33ms/step - loss: 2.7794e-04\n",
      "Epoch 84/100\n",
      "2434/2434 [==============================] - 80s 33ms/step - loss: 2.7800e-04\n",
      "Epoch 85/100\n",
      "2434/2434 [==============================] - 81s 33ms/step - loss: 2.7732e-04\n",
      "Epoch 86/100\n",
      "2434/2434 [==============================] - 82s 34ms/step - loss: 2.7769e-04\n",
      "Epoch 87/100\n",
      "2434/2434 [==============================] - 82s 34ms/step - loss: 2.7749e-04\n",
      "Epoch 88/100\n",
      "2434/2434 [==============================] - 81s 33ms/step - loss: 2.7727e-04\n",
      "Epoch 89/100\n",
      "2434/2434 [==============================] - 80s 33ms/step - loss: 2.7720e-04\n",
      "Epoch 90/100\n",
      "2434/2434 [==============================] - 82s 33ms/step - loss: 2.7705e-04\n",
      "Epoch 91/100\n",
      "2434/2434 [==============================] - 80s 33ms/step - loss: 2.7690e-04\n",
      "Epoch 92/100\n",
      "2434/2434 [==============================] - 81s 33ms/step - loss: 2.7661e-04\n",
      "Epoch 93/100\n",
      "2434/2434 [==============================] - 81s 33ms/step - loss: 2.7638e-04\n",
      "Epoch 94/100\n",
      "2434/2434 [==============================] - 80s 33ms/step - loss: 2.7604e-04\n",
      "Epoch 95/100\n",
      "2434/2434 [==============================] - 82s 34ms/step - loss: 2.7616e-04\n",
      "Epoch 96/100\n",
      "2434/2434 [==============================] - 85s 35ms/step - loss: 2.7560e-04\n",
      "Epoch 97/100\n",
      "2434/2434 [==============================] - 83s 34ms/step - loss: 2.7515e-04\n",
      "Epoch 98/100\n",
      "2434/2434 [==============================] - 84s 35ms/step - loss: 2.7483e-04\n",
      "Epoch 99/100\n",
      "2434/2434 [==============================] - 82s 34ms/step - loss: 2.7454e-04\n",
      "Epoch 100/100\n",
      "2434/2434 [==============================] - 82s 34ms/step - loss: 2.7515e-04\n"
     ]
    },
    {
     "data": {
      "text/plain": [
       "<keras.callbacks.History at 0x2d4a2555e70>"
      ]
     },
     "execution_count": 20,
     "metadata": {},
     "output_type": "execute_result"
    }
   ],
   "source": [
    "# Xây dựng mô hình LSTM\n",
    "model = Sequential()\n",
    "model.add(LSTM(64, input_shape=(look_back, 3), return_sequences=True))\n",
    "model.add(Dropout(0.2))\n",
    "model.add(LSTM(32))\n",
    "model.add(Dropout(0.2))\n",
    "model.add(Dense(1))\n",
    "model.compile(loss='mean_squared_error', optimizer='adam')\n",
    "model.fit(train_X, train_y, epochs=100, batch_size=32)"
   ]
  },
  {
   "cell_type": "code",
   "execution_count": 21,
   "metadata": {},
   "outputs": [
    {
     "name": "stdout",
     "output_type": "stream",
     "text": [
      "Train loss: 0.0002755268942564726\n",
      "Test loss: 0.00035111058969050646\n"
     ]
    }
   ],
   "source": [
    "# Đánh giá mô hình\n",
    "train_score = model.evaluate(train_X, train_y, verbose=0)\n",
    "test_score = model.evaluate(test_X, test_y, verbose=0)\n",
    "print('Train loss:', train_score)\n",
    "print('Test loss:', test_score)"
   ]
  },
  {
   "cell_type": "code",
   "execution_count": 22,
   "metadata": {},
   "outputs": [
    {
     "name": "stdout",
     "output_type": "stream",
     "text": [
      "607/607 [==============================] - 8s 12ms/step\n",
      "[[0.65211546]\n",
      " [0.6549951 ]\n",
      " [0.64444727]\n",
      " ...\n",
      " [0.6484104 ]\n",
      " [0.6484119 ]\n",
      " [0.6563431 ]]\n"
     ]
    }
   ],
   "source": [
    "# Dự đoán biến động giá cổ phiếu trên tập test\n",
    "predicted_price_diff = model.predict(test_X)\n",
    "print(predicted_price_diff)"
   ]
  },
  {
   "cell_type": "code",
   "execution_count": 29,
   "metadata": {},
   "outputs": [],
   "source": [
    "# # Chuyển đổi biến động giá cổ phiếu về đơn vị đồng\n",
    "# predicted_price_diff = scaler.inverse_transform(predicted_price_diff.reshape(-1, 1))\n",
    "# test_y = scaler.inverse_transform(test_y.reshape(-1, 1))\n",
    "# print(predicted_price_diff)"
   ]
  },
  {
   "cell_type": "code",
   "execution_count": 25,
   "metadata": {},
   "outputs": [],
   "source": [
    "# Tính giá tiếp theo dựa trên giá hiện tại và biến động giá dự đoán được\n",
    "predicted_price = test_df['Close'].values[:-look_back] + predicted_price_diff.ravel()\n",
    "actual_price = test_df['Close'].values[:-look_back] + test_y.ravel()"
   ]
  },
  {
   "cell_type": "code",
   "execution_count": 28,
   "metadata": {},
   "outputs": [
    {
     "data": {
      "image/png": "[encoded data removed]",
      "text/plain": [
       "<Figure size 640x480 with 1 Axes>"
      ]
     },
     "metadata": {},
     "output_type": "display_data"
    }
   ],
   "source": [
    "#Vẽ đồ thị so sánh giá thực tế và giá dự đoán được\n",
    "import matplotlib.pyplot as plt\n",
    "plt.plot(predicted_price, label='Giá thực tế')\n",
    "plt.plot(actual_price, label='Giá dự đoán')\n",
    "plt.legend()\n",
    "plt.show()"
   ]
  },
  {
   "attachments": {},
   "cell_type": "markdown",
   "metadata": {},
   "source": [
    "Đồ thị của biến động giá"
   ]
  },
  {
   "cell_type": "code",
   "execution_count": null,
   "metadata": {},
   "outputs": [],
   "source": [
    "plt.plot(predicted_price_diff, label='Biến động giá')"
   ]
  }
 ],
 "metadata": {
  "kernelspec": {
   "display_name": "Python 3",
   "language": "python",
   "name": "python3"
  },
  "language_info": {
   "codemirror_mode": {
    "name": "ipython",
    "version": 3
   },
   "file_extension": ".py",
   "mimetype": "text/x-python",
   "name": "python",
   "nbconvert_exporter": "python",
   "pygments_lexer": "ipython3",
   "version": "3.10.7"
  },
  "orig_nbformat": 4
 },
 "nbformat": 4,
 "nbformat_minor": 2
}
